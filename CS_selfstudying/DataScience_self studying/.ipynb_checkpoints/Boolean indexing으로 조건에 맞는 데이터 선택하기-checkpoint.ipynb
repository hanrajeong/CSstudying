{
 "cells": [
  {
   "cell_type": "markdown",
   "id": "72aa675e",
   "metadata": {},
   "source": [
    "# Boolean indexing으로 조건에 맞는 데이터 선택하기"
   ]
  },
  {
   "cell_type": "markdown",
   "id": "afa5d870",
   "metadata": {},
   "source": [
    "Boolean indexing\n",
    "- ndarray 인덱싱 시, bool 리스트를 전달하여 True인 경우만 필터링\n",
    "- 브로드캐스팅을 활용하여 ndarray로부터 bool list를 얻기"
   ]
  },
  {
   "cell_type": "code",
   "execution_count": 1,
   "id": "278ba9bd",
   "metadata": {},
   "outputs": [],
   "source": [
    "import numpy as np"
   ]
  },
  {
   "cell_type": "code",
   "execution_count": 4,
   "id": "4c96a17c",
   "metadata": {},
   "outputs": [
    {
     "name": "stdout",
     "output_type": "stream",
     "text": [
      "[43 90 28 52 47 34 29 93 24 65]\n"
     ]
    }
   ],
   "source": [
    "x = np.random.randint(1, 100, size = 10)\n",
    "print(x)"
   ]
  },
  {
   "cell_type": "code",
   "execution_count": 7,
   "id": "65f5069d",
   "metadata": {},
   "outputs": [
    {
     "name": "stdout",
     "output_type": "stream",
     "text": [
      "[False  True  True  True False  True False False  True False]\n"
     ]
    }
   ],
   "source": [
    "even_mask = x % 2 == 0\n",
    "print(even_mask)"
   ]
  },
  {
   "cell_type": "code",
   "execution_count": 11,
   "id": "c7f6b3a9",
   "metadata": {},
   "outputs": [
    {
     "data": {
      "text/plain": [
       "array([90, 28, 52, 34, 24])"
      ]
     },
     "execution_count": 11,
     "metadata": {},
     "output_type": "execute_result"
    }
   ],
   "source": [
    "x[even_mask]"
   ]
  },
  {
   "cell_type": "code",
   "execution_count": 12,
   "id": "daf1e1ea",
   "metadata": {},
   "outputs": [
    {
     "data": {
      "text/plain": [
       "array([90, 28, 52, 34, 24])"
      ]
     },
     "execution_count": 12,
     "metadata": {},
     "output_type": "execute_result"
    }
   ],
   "source": [
    "x[x % 2 == 0]"
   ]
  },
  {
   "cell_type": "code",
   "execution_count": 14,
   "id": "5c01bf8a",
   "metadata": {},
   "outputs": [
    {
     "data": {
      "text/plain": [
       "array([43, 90, 52, 47, 34, 93, 65])"
      ]
     },
     "execution_count": 14,
     "metadata": {},
     "output_type": "execute_result"
    }
   ],
   "source": [
    "x[x > 30]"
   ]
  },
  {
   "cell_type": "markdown",
   "id": "ee47f51e",
   "metadata": {},
   "source": [
    "다중조건 사용하기\n",
    "- 파이썬의 논리 연산자인 and, or, not 키워드 사용 불가\n",
    "- 기본적으로 numpy는 c언어 base임.\n",
    "- 비트 연산자인 &, | 사용."
   ]
  },
  {
   "cell_type": "code",
   "execution_count": 17,
   "id": "ed160b4e",
   "metadata": {},
   "outputs": [
    {
     "data": {
      "text/plain": [
       "array([28, 24])"
      ]
     },
     "execution_count": 17,
     "metadata": {},
     "output_type": "execute_result"
    }
   ],
   "source": [
    "x[(x % 2 == 0) & (x < 30)]"
   ]
  },
  {
   "cell_type": "code",
   "execution_count": 18,
   "id": "ade1279c",
   "metadata": {},
   "outputs": [
    {
     "data": {
      "text/plain": [
       "array([], dtype=int32)"
      ]
     },
     "execution_count": 18,
     "metadata": {},
     "output_type": "execute_result"
    }
   ],
   "source": [
    "x[(x < 30) & (x > 50)]"
   ]
  },
  {
   "cell_type": "code",
   "execution_count": 21,
   "id": "489e57cf",
   "metadata": {},
   "outputs": [
    {
     "name": "stdout",
     "output_type": "stream",
     "text": [
      "[23.96356746 26.34295536 24.00598445 23.64152922 26.19344735 26.64084821\n",
      " 24.34561494 24.11847076 23.03038318 23.39976946 23.35249894 24.02513426\n",
      " 24.80192765 26.4610675  24.65931254 23.65763886 25.63054253 23.75963431\n",
      " 24.10229533 24.31339619 23.87246206 26.03177386 25.12005171 26.67609187\n",
      " 23.85954622 26.05812299 25.65612952 24.72172184 24.69068198 26.27417548\n",
      " 26.84904625 26.48601469 25.04939036 26.10263202 25.75265532 26.04482553]\n"
     ]
    }
   ],
   "source": [
    "temp = np.random.uniform(23.0, 27.0, 36)\n",
    "print(temp)"
   ]
  },
  {
   "cell_type": "code",
   "execution_count": 22,
   "id": "504cf87d",
   "metadata": {},
   "outputs": [
    {
     "data": {
      "text/plain": [
       "17"
      ]
     },
     "execution_count": 22,
     "metadata": {},
     "output_type": "execute_result"
    }
   ],
   "source": [
    "len(temp[(temp>25)])"
   ]
  },
  {
   "cell_type": "code",
   "execution_count": 23,
   "id": "9b75eb5f",
   "metadata": {},
   "outputs": [
    {
     "data": {
      "text/plain": [
       "17"
      ]
     },
     "execution_count": 23,
     "metadata": {},
     "output_type": "execute_result"
    }
   ],
   "source": [
    "np.sum(temp > 25.0) #True는 1을 갖는 것 때문에 이렇게 활용할 수 있음."
   ]
  },
  {
   "cell_type": "code",
   "execution_count": 24,
   "id": "d4053c9e",
   "metadata": {},
   "outputs": [
    {
     "data": {
      "text/plain": [
       "26.080574738780307"
      ]
     },
     "execution_count": 24,
     "metadata": {},
     "output_type": "execute_result"
    }
   ],
   "source": [
    "np.mean(temp[(temp>25)])"
   ]
  },
  {
   "cell_type": "code",
   "execution_count": null,
   "id": "2b259447",
   "metadata": {},
   "outputs": [],
   "source": []
  }
 ],
 "metadata": {
  "kernelspec": {
   "display_name": "Python 3",
   "language": "python",
   "name": "python3"
  },
  "language_info": {
   "codemirror_mode": {
    "name": "ipython",
    "version": 3
   },
   "file_extension": ".py",
   "mimetype": "text/x-python",
   "name": "python",
   "nbconvert_exporter": "python",
   "pygments_lexer": "ipython3",
   "version": "3.8.8"
  },
  "toc": {
   "base_numbering": 1,
   "nav_menu": {},
   "number_sections": true,
   "sideBar": true,
   "skip_h1_title": false,
   "title_cell": "Table of Contents",
   "title_sidebar": "Contents",
   "toc_cell": false,
   "toc_position": {},
   "toc_section_display": true,
   "toc_window_display": false
  }
 },
 "nbformat": 4,
 "nbformat_minor": 5
}

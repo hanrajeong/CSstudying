{
 "cells": [
  {
   "cell_type": "markdown",
   "id": "cd5ab049",
   "metadata": {},
   "source": [
    "# numpy 연습문제"
   ]
  },
  {
   "cell_type": "markdown",
   "id": "79e1fe42",
   "metadata": {},
   "source": [
    "## 로또 자동 생성기 (함수로)"
   ]
  },
  {
   "cell_type": "code",
   "execution_count": 2,
   "id": "9630c44b",
   "metadata": {},
   "outputs": [],
   "source": [
    "import numpy as np"
   ]
  },
  {
   "cell_type": "code",
   "execution_count": 5,
   "id": "72cf8e0a",
   "metadata": {},
   "outputs": [
    {
     "data": {
      "text/plain": [
       "array([34, 43, 30, 36,  6,  1])"
      ]
     },
     "execution_count": 5,
     "metadata": {},
     "output_type": "execute_result"
    }
   ],
   "source": [
    "def generate_lotto():\n",
    "    return np.random.choice(np.arange(1, 46), size = 6, replace = False)\n",
    "    \n",
    "generate_lotto()"
   ]
  },
  {
   "cell_type": "markdown",
   "id": "4cd670c8",
   "metadata": {},
   "source": [
    "## numpy를 이용하여 pi 값을 계산하시오. (몬테 카를로 방법 이용)"
   ]
  },
  {
   "cell_type": "code",
   "execution_count": 17,
   "id": "c6b42d9f",
   "metadata": {},
   "outputs": [
    {
     "name": "stdout",
     "output_type": "stream",
     "text": [
      "[[0.53003964 0.15253931]\n",
      " [0.48496399 0.00159812]\n",
      " [0.65814428 0.13716053]\n",
      " ...\n",
      " [0.84393902 0.24244341]\n",
      " [0.21724291 0.88128943]\n",
      " [0.46335206 0.69813172]]\n",
      "3.1416922\n"
     ]
    }
   ],
   "source": [
    "# pi/4 : 1 = (4분원 안에 점이 위치한 개수) : (전체 시도 개수)\n",
    "# pi = 4 * (4분원 안에 점이 위치한 개수) / (전체 시도 개수) 1e7로 두자.\n",
    "\n",
    "total = int(1e8)\n",
    "\n",
    "points = np.random.rand(total, 2) #0과 1사이 난수 발생.\n",
    "\n",
    "print(points[np.sum(points**2, axis = 1) <= 1])\n",
    "\n",
    "p = 4 * np.sum(np.sum(points ** 2, axis = 1) <= 1) / total\n",
    "\n",
    "print(p)"
   ]
  },
  {
   "cell_type": "code",
   "execution_count": null,
   "id": "f182d724",
   "metadata": {},
   "outputs": [],
   "source": []
  }
 ],
 "metadata": {
  "kernelspec": {
   "display_name": "Python 3",
   "language": "python",
   "name": "python3"
  },
  "language_info": {
   "codemirror_mode": {
    "name": "ipython",
    "version": 3
   },
   "file_extension": ".py",
   "mimetype": "text/x-python",
   "name": "python",
   "nbconvert_exporter": "python",
   "pygments_lexer": "ipython3",
   "version": "3.8.8"
  },
  "toc": {
   "base_numbering": 1,
   "nav_menu": {},
   "number_sections": true,
   "sideBar": true,
   "skip_h1_title": false,
   "title_cell": "Table of Contents",
   "title_sidebar": "Contents",
   "toc_cell": false,
   "toc_position": {},
   "toc_section_display": true,
   "toc_window_display": false
  }
 },
 "nbformat": 4,
 "nbformat_minor": 5
}

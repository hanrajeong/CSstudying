{
 "cells": [
  {
   "cell_type": "markdown",
   "id": "4b3cd1fe",
   "metadata": {},
   "source": [
    "# ndarray 기본함수 사용하기"
   ]
  },
  {
   "cell_type": "markdown",
   "id": "a2b4902a",
   "metadata": {},
   "source": [
    "numpy.org에서 공식문서 볼 수 있음."
   ]
  },
  {
   "cell_type": "code",
   "execution_count": 2,
   "id": "214413b4",
   "metadata": {},
   "outputs": [],
   "source": [
    "import numpy as np"
   ]
  },
  {
   "cell_type": "code",
   "execution_count": 3,
   "id": "ee13de76",
   "metadata": {
    "scrolled": true
   },
   "outputs": [],
   "source": [
    "x = np.arange(15).reshape(3, 5)\n",
    "y = np.random.rand(15).reshape(3, 5)"
   ]
  },
  {
   "cell_type": "code",
   "execution_count": 4,
   "id": "c9ffeffb",
   "metadata": {},
   "outputs": [
    {
     "name": "stdout",
     "output_type": "stream",
     "text": [
      "[[ 0  1  2  3  4]\n",
      " [ 5  6  7  8  9]\n",
      " [10 11 12 13 14]]\n",
      "[[0.57294277 0.57575642 0.12092658 0.56511091 0.06414454]\n",
      " [0.71332063 0.94810891 0.99728911 0.49273037 0.37973259]\n",
      " [0.96897089 0.76418038 0.94478035 0.58757765 0.67499326]]\n"
     ]
    }
   ],
   "source": [
    "print(x)\n",
    "print(y)"
   ]
  },
  {
   "cell_type": "markdown",
   "id": "1bb92924",
   "metadata": {},
   "source": [
    "ndarray끼리의 연산은 기본적으로 size가 동일해야함."
   ]
  },
  {
   "cell_type": "code",
   "execution_count": 5,
   "id": "10573dbb",
   "metadata": {
    "scrolled": true
   },
   "outputs": [
    {
     "data": {
      "text/plain": [
       "array([[ 0.57294277,  1.57575642,  2.12092658,  3.56511091,  4.06414454],\n",
       "       [ 5.71332063,  6.94810891,  7.99728911,  8.49273037,  9.37973259],\n",
       "       [10.96897089, 11.76418038, 12.94478035, 13.58757765, 14.67499326]])"
      ]
     },
     "execution_count": 5,
     "metadata": {},
     "output_type": "execute_result"
    }
   ],
   "source": [
    "np.add(x,y)"
   ]
  },
  {
   "cell_type": "code",
   "execution_count": 6,
   "id": "b8d0a239",
   "metadata": {},
   "outputs": [
    {
     "data": {
      "text/plain": [
       "array([[-0.57294277,  0.42424358,  1.87907342,  2.43488909,  3.93585546],\n",
       "       [ 4.28667937,  5.05189109,  6.00271089,  7.50726963,  8.62026741],\n",
       "       [ 9.03102911, 10.23581962, 11.05521965, 12.41242235, 13.32500674]])"
      ]
     },
     "execution_count": 6,
     "metadata": {},
     "output_type": "execute_result"
    }
   ],
   "source": [
    "np.subtract(x,y)"
   ]
  },
  {
   "cell_type": "code",
   "execution_count": 7,
   "id": "38ae172e",
   "metadata": {},
   "outputs": [
    {
     "data": {
      "text/plain": [
       "array([[ 0.        ,  0.57575642,  0.24185316,  1.69533273,  0.25657816],\n",
       "       [ 3.56660314,  5.68865345,  6.9810238 ,  3.94184294,  3.41759334],\n",
       "       [ 9.68970887,  8.4059842 , 11.33736423,  7.63850948,  9.44990563]])"
      ]
     },
     "execution_count": 7,
     "metadata": {},
     "output_type": "execute_result"
    }
   ],
   "source": [
    "np.multiply(x,y)"
   ]
  },
  {
   "cell_type": "code",
   "execution_count": 8,
   "id": "22b8bb15",
   "metadata": {},
   "outputs": [
    {
     "data": {
      "text/plain": [
       "array([[ 0.        ,  1.7368456 , 16.53896131,  5.3086924 , 62.35916577],\n",
       "       [ 7.00947065,  6.32838691,  7.01902779, 16.23606039, 23.70088889],\n",
       "       [10.3202275 , 14.39450719, 12.70136489, 22.12473527, 20.74094786]])"
      ]
     },
     "execution_count": 8,
     "metadata": {},
     "output_type": "execute_result"
    }
   ],
   "source": [
    "np.divide(x,y)"
   ]
  },
  {
   "cell_type": "code",
   "execution_count": 9,
   "id": "b8c6c152",
   "metadata": {},
   "outputs": [
    {
     "data": {
      "text/plain": [
       "array([[ 0.57294277,  1.57575642,  2.12092658,  3.56511091,  4.06414454],\n",
       "       [ 5.71332063,  6.94810891,  7.99728911,  8.49273037,  9.37973259],\n",
       "       [10.96897089, 11.76418038, 12.94478035, 13.58757765, 14.67499326]])"
      ]
     },
     "execution_count": 9,
     "metadata": {},
     "output_type": "execute_result"
    }
   ],
   "source": [
    "x + y"
   ]
  },
  {
   "cell_type": "code",
   "execution_count": 10,
   "id": "1776dc98",
   "metadata": {},
   "outputs": [
    {
     "data": {
      "text/plain": [
       "array([[-0.57294277,  0.42424358,  1.87907342,  2.43488909,  3.93585546],\n",
       "       [ 4.28667937,  5.05189109,  6.00271089,  7.50726963,  8.62026741],\n",
       "       [ 9.03102911, 10.23581962, 11.05521965, 12.41242235, 13.32500674]])"
      ]
     },
     "execution_count": 10,
     "metadata": {},
     "output_type": "execute_result"
    }
   ],
   "source": [
    "x - y"
   ]
  },
  {
   "cell_type": "code",
   "execution_count": 11,
   "id": "670d003a",
   "metadata": {},
   "outputs": [
    {
     "data": {
      "text/plain": [
       "array([[ 0.        ,  0.57575642,  0.24185316,  1.69533273,  0.25657816],\n",
       "       [ 3.56660314,  5.68865345,  6.9810238 ,  3.94184294,  3.41759334],\n",
       "       [ 9.68970887,  8.4059842 , 11.33736423,  7.63850948,  9.44990563]])"
      ]
     },
     "execution_count": 11,
     "metadata": {},
     "output_type": "execute_result"
    }
   ],
   "source": [
    "x * y"
   ]
  },
  {
   "cell_type": "code",
   "execution_count": 12,
   "id": "d391d049",
   "metadata": {},
   "outputs": [
    {
     "data": {
      "text/plain": [
       "array([[ 0.        ,  1.7368456 , 16.53896131,  5.3086924 , 62.35916577],\n",
       "       [ 7.00947065,  6.32838691,  7.01902779, 16.23606039, 23.70088889],\n",
       "       [10.3202275 , 14.39450719, 12.70136489, 22.12473527, 20.74094786]])"
      ]
     },
     "execution_count": 12,
     "metadata": {},
     "output_type": "execute_result"
    }
   ],
   "source": [
    "x / y"
   ]
  },
  {
   "cell_type": "code",
   "execution_count": 13,
   "id": "d72b3f1c",
   "metadata": {},
   "outputs": [
    {
     "name": "stdout",
     "output_type": "stream",
     "text": [
      "[[0.57294277 0.57575642 0.12092658 0.56511091 0.06414454]\n",
      " [0.71332063 0.94810891 0.99728911 0.49273037 0.37973259]\n",
      " [0.96897089 0.76418038 0.94478035 0.58757765 0.67499326]]\n"
     ]
    }
   ],
   "source": [
    "print(y)"
   ]
  },
  {
   "cell_type": "code",
   "execution_count": 15,
   "id": "323853a5",
   "metadata": {},
   "outputs": [
    {
     "data": {
      "text/plain": [
       "0.6247043574326286"
      ]
     },
     "execution_count": 15,
     "metadata": {},
     "output_type": "execute_result"
    }
   ],
   "source": [
    "np.mean(y)"
   ]
  },
  {
   "cell_type": "code",
   "execution_count": 16,
   "id": "9d3fd138",
   "metadata": {},
   "outputs": [
    {
     "data": {
      "text/plain": [
       "0.6247043574326286"
      ]
     },
     "execution_count": 16,
     "metadata": {},
     "output_type": "execute_result"
    }
   ],
   "source": [
    "y.mean()"
   ]
  },
  {
   "cell_type": "code",
   "execution_count": 18,
   "id": "b38c9b93",
   "metadata": {},
   "outputs": [
    {
     "data": {
      "text/plain": [
       "0.9972891138342862"
      ]
     },
     "execution_count": 18,
     "metadata": {},
     "output_type": "execute_result"
    }
   ],
   "source": [
    "np.max(y)"
   ]
  },
  {
   "cell_type": "code",
   "execution_count": 19,
   "id": "2446ad25",
   "metadata": {},
   "outputs": [
    {
     "data": {
      "text/plain": [
       "0.9972891138342862"
      ]
     },
     "execution_count": 19,
     "metadata": {},
     "output_type": "execute_result"
    }
   ],
   "source": [
    "y.max()"
   ]
  },
  {
   "cell_type": "code",
   "execution_count": 20,
   "id": "d0f8731c",
   "metadata": {},
   "outputs": [
    {
     "data": {
      "text/plain": [
       "7"
      ]
     },
     "execution_count": 20,
     "metadata": {},
     "output_type": "execute_result"
    }
   ],
   "source": [
    "np.argmax(y) #max값을 갖는 인자의 index를 행을 기준으로 세어서 몇번째인지 return 해줌."
   ]
  },
  {
   "cell_type": "code",
   "execution_count": 21,
   "id": "ec6665bd",
   "metadata": {},
   "outputs": [
    {
     "data": {
      "text/plain": [
       "(0.07664439739901331, 0.5875776520328234, 0.2768472456048882)"
      ]
     },
     "execution_count": 21,
     "metadata": {},
     "output_type": "execute_result"
    }
   ],
   "source": [
    "np.var(y), np.median(y), np.std(y) #마지막 함수는 표준편차"
   ]
  },
  {
   "cell_type": "code",
   "execution_count": 24,
   "id": "7b30993f",
   "metadata": {},
   "outputs": [
    {
     "data": {
      "text/plain": [
       "9.37056536148943"
      ]
     },
     "execution_count": 24,
     "metadata": {},
     "output_type": "execute_result"
    }
   ],
   "source": [
    "y.sum() #axis의 기본값이 None으로 들어가있음. 축을 명시하면 그 축을 따라 sum을 구해줌. ex) axis = 1"
   ]
  },
  {
   "cell_type": "code",
   "execution_count": 23,
   "id": "7a498c24",
   "metadata": {},
   "outputs": [
    {
     "data": {
      "text/plain": [
       "array([0.57294277, 1.14869919, 1.26962577, 1.83473668, 1.89888122,\n",
       "       2.61220185, 3.56031075, 4.55759987, 5.05033024, 5.43006283,\n",
       "       6.39903372, 7.1632141 , 8.10799445, 8.6955721 , 9.37056536])"
      ]
     },
     "execution_count": 23,
     "metadata": {},
     "output_type": "execute_result"
    }
   ],
   "source": [
    "y.cumsum() # 누적 합계를 index 별로 알려줌. 앞에서부터 차례로 더해감."
   ]
  },
  {
   "cell_type": "code",
   "execution_count": 25,
   "id": "42286c6a",
   "metadata": {},
   "outputs": [
    {
     "name": "stdout",
     "output_type": "stream",
     "text": [
      "[ 0.38422838  0.96398476 -0.18046945 -1.78650275 -0.37365173  1.3022601\n",
      "  0.35467773 -1.56073323 -0.32024575  0.31113867]\n"
     ]
    }
   ],
   "source": [
    "z = np.random.randn(10)\n",
    "print(z)"
   ]
  },
  {
   "cell_type": "code",
   "execution_count": 26,
   "id": "eb9d895c",
   "metadata": {},
   "outputs": [
    {
     "data": {
      "text/plain": [
       "True"
      ]
     },
     "execution_count": 26,
     "metadata": {},
     "output_type": "execute_result"
    }
   ],
   "source": [
    "np.any(z > 0) #z의 원소중 하나만 맞아도 참임"
   ]
  },
  {
   "cell_type": "code",
   "execution_count": 27,
   "id": "255ec790",
   "metadata": {},
   "outputs": [
    {
     "data": {
      "text/plain": [
       "False"
      ]
     },
     "execution_count": 27,
     "metadata": {},
     "output_type": "execute_result"
    }
   ],
   "source": [
    "np.all(z > 0)"
   ]
  },
  {
   "cell_type": "code",
   "execution_count": 28,
   "id": "76ac7a0c",
   "metadata": {},
   "outputs": [
    {
     "data": {
      "text/plain": [
       "True"
      ]
     },
     "execution_count": 28,
     "metadata": {},
     "output_type": "execute_result"
    }
   ],
   "source": [
    "np.all(z != 0)"
   ]
  },
  {
   "cell_type": "code",
   "execution_count": 30,
   "id": "38a30e05",
   "metadata": {},
   "outputs": [
    {
     "name": "stdout",
     "output_type": "stream",
     "text": [
      "[-0.97356195 -1.12682432 -0.02417614  1.64622959  1.32643967 -0.91549925\n",
      " -0.79022702 -0.90608875 -0.28712718 -0.18687526]\n"
     ]
    }
   ],
   "source": [
    "l = np.random.randn(10)\n",
    "print(l)"
   ]
  },
  {
   "cell_type": "code",
   "execution_count": 31,
   "id": "4d1b9ad7",
   "metadata": {},
   "outputs": [
    {
     "data": {
      "text/plain": [
       "array([0.38422838, 0.96398476, 0.        , 0.        , 0.        ,\n",
       "       1.3022601 , 0.35467773, 0.        , 0.        , 0.31113867])"
      ]
     },
     "execution_count": 31,
     "metadata": {},
     "output_type": "execute_result"
    }
   ],
   "source": [
    "#ex. 이중에서 음수인건 0으로 바꿀 것임\n",
    "#np.where(조건, 참인 경우, 거짓인 경우)\n",
    "\n",
    "np.where(z>0, z, 0)"
   ]
  }
 ],
 "metadata": {
  "kernelspec": {
   "display_name": "Python 3",
   "language": "python",
   "name": "python3"
  },
  "language_info": {
   "codemirror_mode": {
    "name": "ipython",
    "version": 3
   },
   "file_extension": ".py",
   "mimetype": "text/x-python",
   "name": "python",
   "nbconvert_exporter": "python",
   "pygments_lexer": "ipython3",
   "version": "3.8.8"
  },
  "toc": {
   "base_numbering": 1,
   "nav_menu": {},
   "number_sections": true,
   "sideBar": true,
   "skip_h1_title": false,
   "title_cell": "Table of Contents",
   "title_sidebar": "Contents",
   "toc_cell": false,
   "toc_position": {},
   "toc_section_display": true,
   "toc_window_display": false
  }
 },
 "nbformat": 4,
 "nbformat_minor": 5
}

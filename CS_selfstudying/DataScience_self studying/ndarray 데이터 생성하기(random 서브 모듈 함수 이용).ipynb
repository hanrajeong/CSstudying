{
 "cells": [
  {
   "cell_type": "markdown",
   "id": "47027439",
   "metadata": {},
   "source": [
    "# ndarray 데이터 생성하기(random 서브 모듈 함수 이용)"
   ]
  },
  {
   "cell_type": "code",
   "execution_count": 1,
   "id": "9a49a0e3",
   "metadata": {},
   "outputs": [],
   "source": [
    "import numpy as np"
   ]
  },
  {
   "cell_type": "markdown",
   "id": "5963fe34",
   "metadata": {},
   "source": [
    "rand 함수\n",
    "- 0과 1사이의 random 한 값을 반환"
   ]
  },
  {
   "cell_type": "code",
   "execution_count": 2,
   "id": "97d2e382",
   "metadata": {},
   "outputs": [
    {
     "data": {
      "text/plain": [
       "array([[0.28974735, 0.7170257 , 0.29756438],\n",
       "       [0.10400075, 0.28085785, 0.61182263]])"
      ]
     },
     "execution_count": 2,
     "metadata": {},
     "output_type": "execute_result"
    }
   ],
   "source": [
    "np.random.rand(2, 3)"
   ]
  },
  {
   "cell_type": "markdown",
   "id": "51293ff4",
   "metadata": {},
   "source": [
    "randn 함수\n",
    "- n:normal distribution(정규분포)\n",
    "- 정규분포로 샘플링된 랜덤 array 생성"
   ]
  },
  {
   "cell_type": "code",
   "execution_count": 3,
   "id": "1bd0e5f7",
   "metadata": {},
   "outputs": [
    {
     "data": {
      "text/plain": [
       "array([[-1.37908516,  0.04435274,  0.7479956 , -2.0814665 ],\n",
       "       [ 1.09335558,  0.54936847,  0.16060044, -0.65287776],\n",
       "       [ 0.17588513, -0.65284793,  1.54430585,  0.22445196]])"
      ]
     },
     "execution_count": 3,
     "metadata": {},
     "output_type": "execute_result"
    }
   ],
   "source": [
    "np.random.randn(3, 4)"
   ]
  },
  {
   "cell_type": "markdown",
   "id": "b202556d",
   "metadata": {},
   "source": [
    "randint 함수\n",
    "- 특정 정수 사이의 random 한 값을 반환"
   ]
  },
  {
   "cell_type": "code",
   "execution_count": 5,
   "id": "276136e0",
   "metadata": {},
   "outputs": [
    {
     "data": {
      "text/plain": [
       "array([[ 5, 48, 60, 73, 13],\n",
       "       [49, 68, 66, 64, 81],\n",
       "       [34, 46, 42, 17,  7]])"
      ]
     },
     "execution_count": 5,
     "metadata": {},
     "output_type": "execute_result"
    }
   ],
   "source": [
    "np.random.randint(1, 100, size=(3, 5))"
   ]
  },
  {
   "cell_type": "markdown",
   "id": "8f0f3f79",
   "metadata": {},
   "source": [
    "seed 함수\n",
    "- 랜덤한 값을 동일하게 다시 생성하고자 할 때 사용\n",
    "- 동일한 랜덤값을 갖고 싶은 난수 생성 함수 전에 한번 호출해주면 됨.\n",
    "- seed(임의의 정수), 이름을 수로 만든다고 생각하면 됨."
   ]
  },
  {
   "cell_type": "code",
   "execution_count": 6,
   "id": "615369fe",
   "metadata": {},
   "outputs": [],
   "source": [
    "np.random.seed(100)"
   ]
  },
  {
   "cell_type": "code",
   "execution_count": 7,
   "id": "201d07a3",
   "metadata": {},
   "outputs": [
    {
     "data": {
      "text/plain": [
       "array([[-1.74976547,  0.3426804 ,  1.1530358 , -0.25243604],\n",
       "       [ 0.98132079,  0.51421884,  0.22117967, -1.07004333],\n",
       "       [-0.18949583,  0.25500144, -0.45802699,  0.43516349]])"
      ]
     },
     "execution_count": 7,
     "metadata": {},
     "output_type": "execute_result"
    }
   ],
   "source": [
    "np.random.randn(3,4)"
   ]
  },
  {
   "cell_type": "markdown",
   "id": "1091250c",
   "metadata": {},
   "source": [
    "choice 함수\n",
    "- 정수로 숫자가 주어지는 경우 np.array(해당숫자)로 간주\n",
    "- replace가 true로 기본값이 들어가있음. (반복 가능)"
   ]
  },
  {
   "cell_type": "code",
   "execution_count": 8,
   "id": "4317d381",
   "metadata": {},
   "outputs": [
    {
     "data": {
      "text/plain": [
       "array([[83,  4, 91, 59],\n",
       "       [67,  7, 49, 47],\n",
       "       [65, 61, 14, 55]])"
      ]
     },
     "execution_count": 8,
     "metadata": {},
     "output_type": "execute_result"
    }
   ],
   "source": [
    "np.random.choice(100, size=(3,4))"
   ]
  },
  {
   "cell_type": "code",
   "execution_count": 9,
   "id": "a8f087e0",
   "metadata": {},
   "outputs": [
    {
     "data": {
      "text/plain": [
       "array([[1.5, 1. , 3. ],\n",
       "       [2. , 2. , 1.5]])"
      ]
     },
     "execution_count": 9,
     "metadata": {},
     "output_type": "execute_result"
    }
   ],
   "source": [
    "x = np.array([1,2,3,1.5,2.6,4.9])\n",
    "np.random.choice(x, size=(2,3))"
   ]
  },
  {
   "cell_type": "code",
   "execution_count": 10,
   "id": "8a38c434",
   "metadata": {},
   "outputs": [
    {
     "data": {
      "text/plain": [
       "array([[2.6, 2. , 4.9],\n",
       "       [1. , 1.5, 3. ]])"
      ]
     },
     "execution_count": 10,
     "metadata": {},
     "output_type": "execute_result"
    }
   ],
   "source": [
    "np.random.choice(x, size=(2,3), replace = False)"
   ]
  },
  {
   "cell_type": "code",
   "execution_count": 11,
   "id": "71fc1f1e",
   "metadata": {},
   "outputs": [
    {
     "data": {
      "text/plain": [
       "array([[1.88092989, 1.80951466, 1.88450807, 1.06024656, 2.55201063],\n",
       "       [2.10191676, 1.76214681, 2.05853156, 2.9137538 , 1.35164262],\n",
       "       [1.23660567, 2.72589134, 1.14973376, 2.65018972, 2.67226363],\n",
       "       [1.15078982, 1.02280158, 1.09684114, 1.71424542, 2.33138675]])"
      ]
     },
     "execution_count": 11,
     "metadata": {},
     "output_type": "execute_result"
    }
   ],
   "source": [
    "np.random.uniform(1.0, 3.0, size=(4, 5))"
   ]
  },
  {
   "cell_type": "code",
   "execution_count": 13,
   "id": "6bc137a2",
   "metadata": {},
   "outputs": [
    {
     "data": {
      "text/plain": [
       "array([[ 0.07939305,  0.10796863,  0.5069511 ,  1.12558936],\n",
       "       [-1.00805248,  0.35482923, -0.70266818,  0.11345113],\n",
       "       [-1.0411337 , -0.68659935, -2.55944758,  0.94631055]])"
      ]
     },
     "execution_count": 13,
     "metadata": {},
     "output_type": "execute_result"
    }
   ],
   "source": [
    "np.random.normal(size=(3, 4)) # 정규분포라서 앞쪽에 범위를 지정해줄 필요 없음."
   ]
  },
  {
   "cell_type": "code",
   "execution_count": 14,
   "id": "bd25c18c",
   "metadata": {},
   "outputs": [
    {
     "data": {
      "text/plain": [
       "array([[ 0.79067165,  0.68000189,  0.71660582,  0.47770485],\n",
       "       [-0.66623993,  0.08448008, -0.33876049,  0.70592118],\n",
       "       [-1.6017614 ,  0.39324807, -0.60165768,  1.83797752]])"
      ]
     },
     "execution_count": 14,
     "metadata": {},
     "output_type": "execute_result"
    }
   ],
   "source": [
    "np.random.randn(3, 4)"
   ]
  }
 ],
 "metadata": {
  "kernelspec": {
   "display_name": "Python 3",
   "language": "python",
   "name": "python3"
  },
  "language_info": {
   "codemirror_mode": {
    "name": "ipython",
    "version": 3
   },
   "file_extension": ".py",
   "mimetype": "text/x-python",
   "name": "python",
   "nbconvert_exporter": "python",
   "pygments_lexer": "ipython3",
   "version": "3.8.8"
  },
  "toc": {
   "base_numbering": 1,
   "nav_menu": {},
   "number_sections": true,
   "sideBar": true,
   "skip_h1_title": false,
   "title_cell": "Table of Contents",
   "title_sidebar": "Contents",
   "toc_cell": false,
   "toc_position": {},
   "toc_section_display": true,
   "toc_window_display": false
  }
 },
 "nbformat": 4,
 "nbformat_minor": 5
}

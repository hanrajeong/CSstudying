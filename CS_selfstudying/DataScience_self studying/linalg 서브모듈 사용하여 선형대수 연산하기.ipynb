{
 "cells": [
  {
   "cell_type": "markdown",
   "id": "3df60b5c",
   "metadata": {},
   "source": [
    "# linalg 서브모듈 사용하여 선형대수 연산하기"
   ]
  },
  {
   "cell_type": "code",
   "execution_count": 1,
   "id": "af711f42",
   "metadata": {},
   "outputs": [],
   "source": [
    "import numpy as np"
   ]
  },
  {
   "cell_type": "markdown",
   "id": "bd963e1d",
   "metadata": {},
   "source": [
    "역행렬 구하기\n",
    "\n",
    "np.linalg.inv\n",
    "- 모든 차원의 값이 같아야함."
   ]
  },
  {
   "cell_type": "code",
   "execution_count": 16,
   "id": "78a8323b",
   "metadata": {},
   "outputs": [
    {
     "name": "stdout",
     "output_type": "stream",
     "text": [
      "[[ 1.41616091  0.37911384 -1.24706923]\n",
      " [-0.19585108  0.37602524  1.3749202 ]\n",
      " [-0.62638335 -1.3272995   2.22411846]]\n",
      "[[ 0.89020256  0.27163131  0.33122015]\n",
      " [-0.14237562  0.7922966  -0.56961752]\n",
      " [ 0.16574341  0.54932335  0.20296479]]\n"
     ]
    }
   ],
   "source": [
    "x = np.random.randn(3, 3)\n",
    "\n",
    "print(x)\n",
    "\n",
    "xi = np.linalg.inv(x)\n",
    "print(xi)\n",
    "\n",
    "z = np.eye(3)"
   ]
  },
  {
   "cell_type": "code",
   "execution_count": 17,
   "id": "831c4fad",
   "metadata": {},
   "outputs": [
    {
     "data": {
      "text/plain": [
       "True"
      ]
     },
     "execution_count": 17,
     "metadata": {},
     "output_type": "execute_result"
    }
   ],
   "source": [
    "np.allclose(x@xi, z)"
   ]
  },
  {
   "cell_type": "code",
   "execution_count": 4,
   "id": "fb550537",
   "metadata": {},
   "outputs": [
    {
     "data": {
      "text/plain": [
       "array([[ 1.00000000e+00, -1.34423082e-15, -2.42931202e-16],\n",
       "       [ 7.50389554e-17,  1.00000000e+00,  8.09095859e-17],\n",
       "       [ 3.95779282e-16,  7.21731093e-16,  1.00000000e+00]])"
      ]
     },
     "execution_count": 4,
     "metadata": {},
     "output_type": "execute_result"
    }
   ],
   "source": [
    "#행렬의 곱은 연산자 @\n",
    "# 혹은 np.matmul(행렬, 행렬)\n",
    "\n",
    "x @ np.linalg.inv(x)"
   ]
  },
  {
   "cell_type": "markdown",
   "id": "9c8ae09a",
   "metadata": {},
   "source": [
    " np.linalg.solve\n",
    "\n",
    "- Ax = B 형태의 선형대수식 솔루션을 제공"
   ]
  },
  {
   "cell_type": "code",
   "execution_count": 7,
   "id": "95782899",
   "metadata": {},
   "outputs": [
    {
     "name": "stdout",
     "output_type": "stream",
     "text": [
      "[18.  7.]\n"
     ]
    }
   ],
   "source": [
    "A = np.array([[1, 1], [2, 4]])\n",
    "B = np.array([25, 64])\n",
    "\n",
    "x = np.linalg.solve(A, B) #x+y = 25, 2x+4y = 64 인 연립방정식을 리턴해줌.\n",
    "print(x)"
   ]
  },
  {
   "cell_type": "code",
   "execution_count": 9,
   "id": "8ba51fd9",
   "metadata": {},
   "outputs": [
    {
     "data": {
      "text/plain": [
       "True"
      ]
     },
     "execution_count": 9,
     "metadata": {},
     "output_type": "execute_result"
    }
   ],
   "source": [
    "#오차가 존재할 수 있으나, np.allclose(A, B)를 통해 True, False 형태로 오차가 무시가능할 정도로 작은 같은 행렬인지 알려줌.\n",
    "np.allclose(A@x, B)"
   ]
  }
 ],
 "metadata": {
  "kernelspec": {
   "display_name": "Python 3",
   "language": "python",
   "name": "python3"
  },
  "language_info": {
   "codemirror_mode": {
    "name": "ipython",
    "version": 3
   },
   "file_extension": ".py",
   "mimetype": "text/x-python",
   "name": "python",
   "nbconvert_exporter": "python",
   "pygments_lexer": "ipython3",
   "version": "3.8.8"
  },
  "toc": {
   "base_numbering": 1,
   "nav_menu": {},
   "number_sections": true,
   "sideBar": true,
   "skip_h1_title": false,
   "title_cell": "Table of Contents",
   "title_sidebar": "Contents",
   "toc_cell": false,
   "toc_position": {},
   "toc_section_display": true,
   "toc_window_display": false
  }
 },
 "nbformat": 4,
 "nbformat_minor": 5
}
